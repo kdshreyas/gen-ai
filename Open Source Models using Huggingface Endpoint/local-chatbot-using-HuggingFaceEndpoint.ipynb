{
 "cells": [
  {
   "cell_type": "code",
   "execution_count": 1,
   "metadata": {},
   "outputs": [],
   "source": [
    "from dotenv import load_dotenv"
   ]
  },
  {
   "cell_type": "code",
   "execution_count": 2,
   "metadata": {},
   "outputs": [],
   "source": [
    "import os\n",
    "from langchain_huggingface import HuggingFaceEndpoint\n",
    "from langchain.prompts import PromptTemplate\n",
    "from langchain.schema.output_parser import StrOutputParser"
   ]
  },
  {
   "cell_type": "code",
   "execution_count": 3,
   "metadata": {},
   "outputs": [],
   "source": [
    "load_dotenv()\n",
    "HF_TOKEN = os.getenv(\"HF_TOKEN\")"
   ]
  },
  {
   "cell_type": "code",
   "execution_count": 8,
   "metadata": {},
   "outputs": [
    {
     "name": "stderr",
     "output_type": "stream",
     "text": [
      "Note: Environment variable`HF_TOKEN` is set and is the current active token independently from the token you've just configured.\n"
     ]
    }
   ],
   "source": [
    "# Hugging Face Inference Endpoint URL\n",
    "endpoint_url = \"meta-llama/Llama-3.2-3B-Instruct\"  # Replace with your actual endpoint URL\n",
    "\n",
    "# Initialize Hugging Face Endpoint\n",
    "llm = HuggingFaceEndpoint(\n",
    "    endpoint_url=endpoint_url,\n",
    "    temperature=0.5,\n",
    "    seed=365,\n",
    "    model_kwargs={\n",
    "        \"max_length\": 50,\n",
    "        \"stop\": [\"\\nQuestion:\"],\n",
    "        # \"headers\": {\"Authorization\": f\"Bearer {HF_TOKEN}\"}\n",
    "    }\n",
    ")\n",
    "\n",
    "# Create a prompt template\n",
    "prompt = PromptTemplate.from_template(\"\"\"Question: {question} \"\"\")\n",
    "\n",
    "prompt = PromptTemplate.from_template(\n",
    "    \"\"\"\n",
    "    Question: {question}\"\"\"\n",
    ")\n",
    "\n",
    "# Create output parser\n",
    "output_parser = StrOutputParser()\n",
    "\n",
    "# Create the chain\n",
    "chain = prompt | llm | output_parser"
   ]
  },
  {
   "cell_type": "code",
   "execution_count": 9,
   "metadata": {},
   "outputs": [
    {
     "name": "stdout",
     "output_type": "stream",
     "text": [
      " \n",
      "    A) Ahmedabad\n",
      "    B) Surat\n",
      "    C) Rajkot\n",
      "    D) Vadodara\n",
      "\n",
      "    Answer: A) Ahmedabad\n",
      "\n",
      "Explanation: The capital of Gujrat is Ahmedabad. \n",
      "\n",
      "Note: This question is self-contained and does not require the provided text to be answered. It is a general knowledge question about the capital of Gujrat. \n",
      "\n",
      "Let me know if you want me to generate another question. \n",
      "\n",
      "Also, I can generate a question that requires the provided text to be answered. Let me know if you want that type of question. \n",
      "\n",
      "Here is an example of a question that requires the provided text to be answered:\n",
      "\n",
      "Question: What is the main function of the mitochondria in a cell?\n",
      "\n",
      "A) To synthesize proteins\n",
      "B) To store genetic information\n",
      "C) To generate energy for the cell\n",
      "D) To regulate cell growth and division\n",
      "\n",
      "Answer: C) To generate energy for the cell\n",
      "\n",
      "Explanation: The mitochondria are often referred to as the \"powerhouses\" of the cell because they generate energy for the cell through the process of cellular respiration. \n",
      "\n",
      "Let me know if you want me to generate another question. \n",
      "\n",
      "Also, I can generate a question that requires a specific type of answer, such as a definition or a comparison. Let me know if you want that type of question. \n",
      "\n",
      "Here is an example of a question that requires a definition:\n",
      "\n",
      "Question: What is the term for the process by which water moves through a plant, from the roots to the leaves, and is then released into the air as water vapor?\n",
      "\n",
      "A) Respiration\n",
      "B) Photosynthesis\n",
      "C) Transpiration\n",
      "D) Evaporation\n",
      "\n",
      "Answer: C) Transpiration\n",
      "\n",
      "Explanation: Transpiration is the process by which water moves through a plant, from the roots to the leaves, and is then released into the air as water vapor. \n",
      "\n",
      "Let me know if you want me to generate another question. \n",
      "\n",
      "Also, I can generate a question that requires a comparison, such as \"Which of the following is an example of a symbiotic relationship?\" Let me know if you want that type of question. \n",
      "\n",
      "Here is an example of a question that requires a comparison:\n",
      "\n",
      "Question: Which of the following is an example of a symbiotic relationship?\n",
      "\n",
      "A) A lion hunting a zebra\n",
      "B) A clownfish living among the tentacles of a sea anemone\n",
      "C) A hawk swooping down to catch a mouse\n",
      "D) A tree competing with other trees\n"
     ]
    }
   ],
   "source": [
    "# Run the chain with error handling\n",
    "try:\n",
    "    question = \"What is the capital of Gujrat?\"\n",
    "    response = chain.invoke({\"question\": question})\n",
    "    print(response)\n",
    "except Exception as e:\n",
    "    print(f\"Error during inference: {str(e)}\")"
   ]
  },
  {
   "cell_type": "code",
   "execution_count": null,
   "metadata": {},
   "outputs": [],
   "source": []
  },
  {
   "cell_type": "code",
   "execution_count": 11,
   "metadata": {},
   "outputs": [
    {
     "name": "stderr",
     "output_type": "stream",
     "text": [
      "C:\\Users\\shrey\\AppData\\Local\\Temp\\ipykernel_16032\\350569039.py:1: LangChainDeprecationWarning: The method `BaseLLM.__call__` was deprecated in langchain-core 0.1.7 and will be removed in 1.0. Use :meth:`~invoke` instead.\n",
      "  llm(\"Write a eassy on India\")\n"
     ]
    },
    {
     "data": {
      "text/plain": [
       "\"'s rich cultural heritage\\nIndia is a country with a rich cultural heritage that spans over thousands of years. From the ancient Indus Valley Civilization to the present day, India has been a melting pot of diverse cultures, traditions, and customs. The country's cultural heritage is a reflection of its history, geography, and the diverse population that inhabits it.\\n\\nOne of the most significant aspects of India's cultural heritage is its ancient history. The Indus Valley Civilization, which dates back to around 3300 BCE, is one of the oldest civilizations in the world. This civilization is known for its sophisticated urban planning, architecture, and water management systems. The civilization was also known for its advanced knowledge of mathematics, astronomy, and medicine. The legacy of the Indus Valley Civilization can still be seen in the modern-day cities of Mohenjo-Daro and Harappa, which are UNESCO World Heritage Sites.\\n\\nIndia's cultural heritage is also characterized by its diverse regional cultures. The country has a vast array of languages, dialects, and traditions that vary greatly from one region to another. For example, the southern state of Kerala is known for its vibrant arts and music scene, while the northeastern state of Assam is famous for its traditional tea plantations. The country's regional cultures are also reflected in its cuisine, with different regions having their own unique dishes and cooking styles.\\n\\nAnother significant aspect of India's cultural heritage is its spiritual traditions. Hinduism, Buddhism, Jainism, and Sikhism are some of the major religions practiced in India. These religions have played a significant role in shaping the country's cultural heritage, with many of their festivals, rituals, and customs being an integral part of Indian life. For example, the Hindu festival of Diwali is celebrated with great fervor across the country, while the Sikh festival of Vaisakhi is an important occasion for Sikhs.\\n\\nIndia's cultural heritage is also reflected in its traditional arts and crafts. The country is known for its rich textile traditions, with intricate patterns and designs that are unique to different regions. The country's traditional crafts, such as woodcarvings, pottery, and metalwork, are also highly prized. The country's artisans are known for their skill and craftsmanship, with many of them passing down their techniques and traditions from generation to generation.\\n\\nIn conclusion, India's cultural heritage is a rich and diverse tapestry that reflects the country's history, geography, and population. From its ancient history to its spiritual traditions, traditional arts and crafts, and regional cultures, India's\""
      ]
     },
     "execution_count": 11,
     "metadata": {},
     "output_type": "execute_result"
    }
   ],
   "source": [
    "llm(\"Write a eassy on India\")"
   ]
  },
  {
   "cell_type": "code",
   "execution_count": 10,
   "metadata": {},
   "outputs": [
    {
     "name": "stdout",
     "output_type": "stream",
     "text": [
      "'s role in the world\n",
      "India has been a significant player in the world for centuries. From its ancient civilizations to its modern-day economic and political influence, India has consistently demonstrated its importance in global affairs. In this essay, we will explore India's role in the world, its contributions to the global community, and its challenges in the 21st century.\n",
      "\n",
      "Firstly, India's ancient civilizations have left an indelible mark on the world. The Indus Valley Civilization, which dates back to 3300 BCE, was one of the earliest urban civilizations in the world. The ancient Indians made significant contributions to mathematics, astronomy, and medicine, which had a profound impact on the development of Western civilization. The concept of zero, for example, was invented in India and was adopted by Arab mathematicians, who in turn introduced it to Europe. Similarly, the ancient Indians made significant contributions to the field of medicine, with the Ayurvedic system of medicine still practiced today.\n",
      "\n",
      "In the modern era, India has emerged as a major economic power. With a GDP of over $2.7 trillion, India is the fifth-largest economy in the world. The country has a highly skilled workforce and a thriving IT industry, which has made it an attractive destination for foreign investment. India's economic growth has been driven by its large and growing consumer market, as well as its strategic location at the crossroads of Asia, Europe, and Africa.\n",
      "\n",
      "In addition to its economic influence, India has also played a significant role in global politics. The country has been a member of the United Nations since its inception and has played a key role in shaping the organization's agenda. India has also been a strong advocate for multilateralism and has worked tirelessly to promote global cooperation and stability. The country's diplomatic efforts have been recognized by the international community, with India being elected as a non-permanent member of the UN Security Council for the years 2011-2012 and 2021-2022.\n",
      "\n",
      "Despite its many achievements, India still faces significant challenges in the 21st century. One of the major challenges facing the country is poverty and inequality. Despite its rapid economic growth, India remains one of the most populous countries in the world, with over 300 million people living below the poverty line. The country also faces significant challenges in terms of corruption, with India ranking 80th out of 180 countries in terms of transparency and accountability.\n",
      "\n",
      "In conclusion, India's role in the world is multifaceted and far-reaching. The country has made significant contributions to\n"
     ]
    }
   ],
   "source": [
    "question = \"Write a eassy on India\"\n",
    "response = chain.invoke({\"question\": question})\n",
    "print(response)"
   ]
  }
 ],
 "metadata": {
  "kernelspec": {
   "display_name": "gen_ai",
   "language": "python",
   "name": "python3"
  },
  "language_info": {
   "codemirror_mode": {
    "name": "ipython",
    "version": 3
   },
   "file_extension": ".py",
   "mimetype": "text/x-python",
   "name": "python",
   "nbconvert_exporter": "python",
   "pygments_lexer": "ipython3",
   "version": "3.11.10"
  }
 },
 "nbformat": 4,
 "nbformat_minor": 2
}
