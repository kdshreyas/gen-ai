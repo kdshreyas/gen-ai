{
 "cells": [
  {
   "cell_type": "code",
   "execution_count": 2,
   "metadata": {},
   "outputs": [],
   "source": [
    "from langchain_google_genai import ChatGoogleGenerativeAI\n",
    "\n",
    "llm = ChatGoogleGenerativeAI(\n",
    "    model=\"gemma-3-27b-it\",\n",
    "    temperature=0,\n",
    "    max_tokens=None,\n",
    "    timeout=None,\n",
    "    max_retries=2,\n",
    "    # other params...\n",
    ")"
   ]
  },
  {
   "cell_type": "code",
   "execution_count": 4,
   "metadata": {},
   "outputs": [
    {
     "name": "stdout",
     "output_type": "stream",
     "text": [
      "Hello there! 👋 \n",
      "\n",
      "How can I help you today? Just let me know what you're thinking, or if you just wanted to say hi, that's great too! \n",
      "\n",
      "I can:\n",
      "\n",
      "* **Answer questions:** About pretty much anything!\n",
      "* **Generate text:** Like stories, poems, articles, code, etc.\n",
      "* **Translate languages:**  I can help with many different languages.\n",
      "* **Summarize text:**  Give you the key points of a longer piece of writing.\n",
      "* **Brainstorm ideas:**  If you're stuck, I can help you come up with some.\n",
      "* **Just chat:** If you're bored and want someone to talk to.\n"
     ]
    }
   ],
   "source": [
    "ai_msg = llm.invoke(\"Hello\")\n",
    "print(ai_msg.content)"
   ]
  },
  {
   "cell_type": "code",
   "execution_count": 8,
   "metadata": {},
   "outputs": [
    {
     "name": "stdout",
     "output_type": "stream",
     "text": [
      "The capital of Maharashtra is **Mumbai**. \n",
      "\n",
      "However, it's a bit more nuanced! While Mumbai is the financial capital and hosts the state legislature, **Pune** is often considered the cultural capital. \n",
      "\n",
      "Here's a breakdown:\n",
      "\n",
      "* **Mumbai:** Seat of the state government, major financial hub, and largest city.\n",
      "* **Pune:** Historically significant, educational hub, and considered the cultural capital.\n",
      "* **Nagpur:** Hosts the winter session of the state legislature and has some administrative functions.\n",
      "\n",
      "\n",
      "\n",
      "But officially, **Mumbai** is the capital of Maharashtra.\n"
     ]
    }
   ],
   "source": [
    "ai_msg = llm.invoke(\"What is a capital of maharastara?\")\n",
    "print(ai_msg.content)"
   ]
  },
  {
   "cell_type": "code",
   "execution_count": null,
   "metadata": {},
   "outputs": [
    {
     "name": "stdout",
     "output_type": "stream",
     "text": [
      "The capital of Gujarat is **Gandhinagar**. \n",
      "\n",
      "While Ahmedabad is the largest city, Gandhinagar was specifically planned and built to be the capital in 1964.\n"
     ]
    }
   ],
   "source": [
    "from langchain.prompts import PromptTemplate\n",
    "from langchain.schema.output_parser import StrOutputParser,\n",
    "\n",
    "prompt = PromptTemplate.from_template(\n",
    "    \"Answer the following question: {question}:\"\n",
    ")\n",
    "\n",
    "# Define output parser\n",
    "output_parser = StrOutputParser()\n",
    "\n",
    "# Create the chain\n",
    "chain = prompt | llm | output_parser\n",
    "\n",
    "# Test the chain\n",
    "question = \"What is the capital of Gujrat?\"\n",
    "answer = chain.invoke({\"question\": question})\n",
    "print(answer)"
   ]
  },
  {
   "cell_type": "code",
   "execution_count": 13,
   "metadata": {},
   "outputs": [],
   "source": [
    "prompt = PromptTemplate.from_template(\n",
    "    \"\"\"List a few popular {type} recipes in JSON format.\n",
    "\n",
    "    Use this JSON schema:\n",
    "\n",
    "    Recipe = {{'recipe_name': str, 'ingredients': list[str]}}\n",
    "    Return: list[Recipe]\"\n",
    "\"\"\"\n",
    ")"
   ]
  },
  {
   "cell_type": "code",
   "execution_count": 19,
   "metadata": {},
   "outputs": [],
   "source": [
    "from langchain_core.output_parsers import JsonOutputParser\n",
    "\n",
    "output_parser = JsonOutputParser()\n",
    "\n",
    "chain = prompt | llm | output_parser\n",
    "response = chain.invoke({\"type\": \"Indian\"})"
   ]
  },
  {
   "cell_type": "code",
   "execution_count": 24,
   "metadata": {},
   "outputs": [
    {
     "name": "stdout",
     "output_type": "stream",
     "text": [
      "[{'ingredients': ['Chicken (boneless, skinless)',\n",
      "                  'Yogurt',\n",
      "                  'Ginger-garlic paste',\n",
      "                  'Garam masala',\n",
      "                  'Turmeric powder',\n",
      "                  'Chili powder',\n",
      "                  'Cumin powder',\n",
      "                  'Coriander powder',\n",
      "                  'Tomato puree',\n",
      "                  'Cream',\n",
      "                  'Onions',\n",
      "                  'Butter',\n",
      "                  'Lemon juice'],\n",
      "  'recipe_name': 'Chicken Tikka Masala'},\n",
      " {'ingredients': ['Black lentils (Urad Dal)',\n",
      "                  'Kidney beans (Rajma)',\n",
      "                  'Butter',\n",
      "                  'Cream',\n",
      "                  'Ginger-garlic paste',\n",
      "                  'Tomatoes',\n",
      "                  'Garam masala',\n",
      "                  'Red chili powder',\n",
      "                  'Cumin powder',\n",
      "                  'Coriander powder',\n",
      "                  'Onions'],\n",
      "  'recipe_name': 'Dal Makhani'},\n",
      " {'ingredients': ['Basmati rice',\n",
      "                  'Mixed vegetables (carrots, peas, potatoes, beans)',\n",
      "                  'Yogurt',\n",
      "                  'Ginger-garlic paste',\n",
      "                  'Biryani masala',\n",
      "                  'Turmeric powder',\n",
      "                  'Red chili powder',\n",
      "                  'Saffron',\n",
      "                  'Ghee',\n",
      "                  'Onions',\n",
      "                  'Mint leaves',\n",
      "                  'Coriander leaves'],\n",
      "  'recipe_name': 'Biryani (Vegetable)'},\n",
      " {'ingredients': ['All-purpose flour',\n",
      "                  'Potatoes',\n",
      "                  'Peas',\n",
      "                  'Spices (cumin, coriander, turmeric, chili powder)',\n",
      "                  'Ginger',\n",
      "                  'Coriander leaves',\n",
      "                  'Oil (for frying)',\n",
      "                  'Salt'],\n",
      "  'recipe_name': 'Samosa'},\n",
      " {'ingredients': ['Spinach (Palak)',\n",
      "                  'Paneer (Indian cheese)',\n",
      "                  'Onions',\n",
      "                  'Ginger-garlic paste',\n",
      "                  'Cream',\n",
      "                  'Garam masala',\n",
      "                  'Turmeric powder',\n",
      "                  'Green chilies',\n",
      "                  'Cumin seeds',\n",
      "                  'Oil'],\n",
      "  'recipe_name': 'Palak Paneer'}]\n"
     ]
    }
   ],
   "source": [
    "from pprint import pprint\n",
    "pprint(response)"
   ]
  }
 ],
 "metadata": {
  "kernelspec": {
   "display_name": "gen_ai",
   "language": "python",
   "name": "python3"
  },
  "language_info": {
   "codemirror_mode": {
    "name": "ipython",
    "version": 3
   },
   "file_extension": ".py",
   "mimetype": "text/x-python",
   "name": "python",
   "nbconvert_exporter": "python",
   "pygments_lexer": "ipython3",
   "version": "3.10.14"
  }
 },
 "nbformat": 4,
 "nbformat_minor": 2
}
