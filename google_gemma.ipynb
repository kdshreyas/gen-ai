{
 "cells": [
  {
   "cell_type": "code",
   "execution_count": 3,
   "metadata": {},
   "outputs": [],
   "source": [
    "from langchain_google_genai import ChatGoogleGenerativeAI\n",
    "\n",
    "llm = ChatGoogleGenerativeAI(\n",
    "    model=\"gemma-3-27b-it\",\n",
    "    temperature=0,\n",
    "    max_tokens=None,\n",
    "    timeout=None,\n",
    "    max_retries=2,\n",
    "    # other params...\n",
    ")"
   ]
  },
  {
   "cell_type": "code",
   "execution_count": null,
   "metadata": {},
   "outputs": [
    {
     "data": {
      "text/plain": [
       "AIMessage(content=\"Hello there! 👋 \\n\\nHow can I help you today? Just let me know what you're thinking, or if you just wanted to say hi, that's great too! \\n\\nI can:\\n\\n* **Answer questions:** About pretty much anything!\\n* **Generate text:** Like stories, poems, articles, code, etc.\\n* **Translate languages:**  I can help with many different languages.\\n* **Summarize text:**  Give you the key points of a longer piece of writing.\\n* **Brainstorm ideas:**  If you're stuck, I can help you come up with some.\\n* **Just chat:** If you're bored and want someone to talk to.\", additional_kwargs={}, response_metadata={'prompt_feedback': {'block_reason': 0, 'safety_ratings': []}, 'finish_reason': 'STOP', 'model_name': 'gemma-3-27b-it', 'safety_ratings': []}, id='run-b99a83a7-b141-43fb-963a-ff30b6cc1d82-0', usage_metadata={'input_tokens': 2, 'output_tokens': 147, 'total_tokens': 149, 'input_token_details': {'cache_read': 0}})"
      ]
     },
     "execution_count": 5,
     "metadata": {},
     "output_type": "execute_result"
    }
   ],
   "source": [
    "\n",
    "ai_msg = llm.invoke(\"Hello\")\n",
    "ai_msg"
   ]
  },
  {
   "cell_type": "code",
   "execution_count": 8,
   "metadata": {},
   "outputs": [
    {
     "name": "stdout",
     "output_type": "stream",
     "text": [
      "The capital of Maharashtra is **Mumbai**. \n",
      "\n",
      "However, it's a bit more nuanced! While Mumbai is the financial capital and hosts the state legislature, **Pune** is often considered the cultural capital. \n",
      "\n",
      "Here's a breakdown:\n",
      "\n",
      "* **Mumbai:** Seat of the state government, major financial hub, and largest city.\n",
      "* **Pune:** Historically significant, educational hub, and considered the cultural capital.\n",
      "* **Nagpur:** Hosts the winter session of the state legislature and has some administrative functions.\n",
      "\n",
      "\n",
      "\n",
      "But officially, **Mumbai** is the capital of Maharashtra.\n"
     ]
    }
   ],
   "source": [
    "ai_msg = llm.invoke(\"What is a capital of maharastara?\")\n",
    "print(ai_msg.content)"
   ]
  },
  {
   "cell_type": "code",
   "execution_count": 11,
   "metadata": {},
   "outputs": [
    {
     "name": "stdout",
     "output_type": "stream",
     "text": [
      "The capital of Gujarat is **Gandhinagar**. \n",
      "\n",
      "While Ahmedabad is the largest city, Gandhinagar was specifically planned and built to be the capital in 1964.\n"
     ]
    }
   ],
   "source": [
    "from langchain.prompts import PromptTemplate\n",
    "from langchain.schema.output_parser import StrOutputParser\n",
    "\n",
    "prompt = PromptTemplate.from_template(\n",
    "    \"Answer the following question: {question}:\"\n",
    ")\n",
    "\n",
    "# Define output parser\n",
    "output_parser = StrOutputParser()\n",
    "\n",
    "# Create the chain\n",
    "chain = prompt | llm | output_parser\n",
    "\n",
    "# Test the chain\n",
    "question = \"What is the capital of Gujrat?\"\n",
    "answer = chain.invoke({\"question\": question})\n",
    "print(answer)"
   ]
  }
 ],
 "metadata": {
  "kernelspec": {
   "display_name": "gen_ai",
   "language": "python",
   "name": "python3"
  },
  "language_info": {
   "codemirror_mode": {
    "name": "ipython",
    "version": 3
   },
   "file_extension": ".py",
   "mimetype": "text/x-python",
   "name": "python",
   "nbconvert_exporter": "python",
   "pygments_lexer": "ipython3",
   "version": "3.10.14"
  }
 },
 "nbformat": 4,
 "nbformat_minor": 2
}
